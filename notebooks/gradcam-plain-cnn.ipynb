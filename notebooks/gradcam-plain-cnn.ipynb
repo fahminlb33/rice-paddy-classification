{
 "cells": [
  {
   "cell_type": "code",
   "execution_count": 1,
   "metadata": {},
   "outputs": [],
   "source": [
    "import random\n",
    "from datetime import datetime\n",
    "\n",
    "import numpy as np\n",
    "import matplotlib.pyplot as plt\n",
    "from skimage.transform import resize\n",
    "\n",
    "import tensorflow as tf"
   ]
  },
  {
   "cell_type": "code",
   "execution_count": 2,
   "metadata": {},
   "outputs": [],
   "source": [
    "EPOCHS = 10\n",
    "BATCH_SIZE = 1\n",
    "IMG_SIZE = (3, 3)\n",
    "IMG_SHAPE = (3, 3, 1)\n",
    "LEARNING_RATE = 0.0001\n",
    "RANDOM_SEED = 0\n",
    "\n",
    "STARTED_TIMESTAMP = datetime.now().strftime(\"%Y%m%d-%H%M%S\")\n",
    "\n",
    "random.seed(RANDOM_SEED)\n",
    "np.random.seed(RANDOM_SEED)\n",
    "tf.random.set_seed(RANDOM_SEED)\n",
    "\n",
    "#tf.config.threading.set_inter_op_parallelism_threads(1)\n",
    "#tf.config.threading.set_intra_op_parallelism_threads(1)"
   ]
  },
  {
   "cell_type": "code",
   "execution_count": 3,
   "metadata": {},
   "outputs": [],
   "source": [
    "(X_train, y_train), (X_test, y_test) = tf.keras.datasets.mnist.load_data()\n",
    "X_train = X_train[(y_train == 0) | (y_train == 1)]\n",
    "y_train = y_train[(y_train == 0) | (y_train == 1)]\n",
    "\n",
    "X_test = X_test[(y_test == 0) | (y_test == 1)]\n",
    "y_test = y_test[(y_test == 0) | (y_test == 1)]\n",
    "\n",
    "X_train = np.array([resize(img, IMG_SIZE) for img in X_train])\n",
    "X_test = np.array([resize(img, IMG_SIZE) for img in X_test])"
   ]
  },
  {
   "cell_type": "code",
   "execution_count": 12,
   "metadata": {},
   "outputs": [
    {
     "data": {
      "text/plain": [
       "array([[0.02178649, 0.23267974, 0.12559913],\n",
       "       [0.13267974, 0.28431373, 0.20261438],\n",
       "       [0.12429194, 0.22287582, 0.04379085]])"
      ]
     },
     "execution_count": 12,
     "metadata": {},
     "output_type": "execute_result"
    }
   ],
   "source": [
    "X_train[0]"
   ]
  },
  {
   "cell_type": "code",
   "execution_count": 4,
   "metadata": {},
   "outputs": [
    {
     "name": "stderr",
     "output_type": "stream",
     "text": [
      "2022-03-25 06:49:29.317365: I tensorflow/stream_executor/cuda/cuda_gpu_executor.cc:923] could not open file to read NUMA node: /sys/bus/pci/devices/0000:01:00.0/numa_node\n",
      "Your kernel may have been built without NUMA support.\n"
     ]
    },
    {
     "name": "stdout",
     "output_type": "stream",
     "text": [
      "Trainable vars: 4\n",
      "Model: \"model\"\n",
      "_________________________________________________________________\n",
      "Layer (type)                 Output Shape              Param #   \n",
      "=================================================================\n",
      "input_1 (InputLayer)         [(None, 3, 3, 1)]         0         \n",
      "_________________________________________________________________\n",
      "konvolusi (Conv2D)           (None, 2, 2, 1)           5         \n",
      "_________________________________________________________________\n",
      "flatten (Flatten)            (None, 4)                 0         \n",
      "_________________________________________________________________\n",
      "dense (Dense)                (None, 1)                 5         \n",
      "=================================================================\n",
      "Total params: 10\n",
      "Trainable params: 10\n",
      "Non-trainable params: 0\n",
      "_________________________________________________________________\n",
      "None\n"
     ]
    },
    {
     "name": "stderr",
     "output_type": "stream",
     "text": [
      "2022-03-25 06:49:29.322546: I tensorflow/stream_executor/cuda/cuda_gpu_executor.cc:923] could not open file to read NUMA node: /sys/bus/pci/devices/0000:01:00.0/numa_node\n",
      "Your kernel may have been built without NUMA support.\n",
      "2022-03-25 06:49:29.322927: I tensorflow/stream_executor/cuda/cuda_gpu_executor.cc:923] could not open file to read NUMA node: /sys/bus/pci/devices/0000:01:00.0/numa_node\n",
      "Your kernel may have been built without NUMA support.\n",
      "2022-03-25 06:49:29.323519: I tensorflow/core/platform/cpu_feature_guard.cc:142] This TensorFlow binary is optimized with oneAPI Deep Neural Network Library (oneDNN) to use the following CPU instructions in performance-critical operations:  SSE4.1 SSE4.2 AVX AVX2 FMA\n",
      "To enable them in other operations, rebuild TensorFlow with the appropriate compiler flags.\n",
      "2022-03-25 06:49:29.324643: I tensorflow/stream_executor/cuda/cuda_gpu_executor.cc:923] could not open file to read NUMA node: /sys/bus/pci/devices/0000:01:00.0/numa_node\n",
      "Your kernel may have been built without NUMA support.\n",
      "2022-03-25 06:49:29.325001: I tensorflow/stream_executor/cuda/cuda_gpu_executor.cc:923] could not open file to read NUMA node: /sys/bus/pci/devices/0000:01:00.0/numa_node\n",
      "Your kernel may have been built without NUMA support.\n",
      "2022-03-25 06:49:29.325553: I tensorflow/stream_executor/cuda/cuda_gpu_executor.cc:923] could not open file to read NUMA node: /sys/bus/pci/devices/0000:01:00.0/numa_node\n",
      "Your kernel may have been built without NUMA support.\n",
      "2022-03-25 06:49:29.943241: I tensorflow/stream_executor/cuda/cuda_gpu_executor.cc:923] could not open file to read NUMA node: /sys/bus/pci/devices/0000:01:00.0/numa_node\n",
      "Your kernel may have been built without NUMA support.\n",
      "2022-03-25 06:49:29.943700: I tensorflow/stream_executor/cuda/cuda_gpu_executor.cc:923] could not open file to read NUMA node: /sys/bus/pci/devices/0000:01:00.0/numa_node\n",
      "Your kernel may have been built without NUMA support.\n",
      "2022-03-25 06:49:29.943729: I tensorflow/core/common_runtime/gpu/gpu_device.cc:1594] Could not identify NUMA node of platform GPU id 0, defaulting to 0.  Your kernel may not have been built with NUMA support.\n",
      "2022-03-25 06:49:29.944145: I tensorflow/stream_executor/cuda/cuda_gpu_executor.cc:923] could not open file to read NUMA node: /sys/bus/pci/devices/0000:01:00.0/numa_node\n",
      "Your kernel may have been built without NUMA support.\n",
      "2022-03-25 06:49:29.944188: I tensorflow/core/common_runtime/gpu/gpu_device.cc:1510] Created device /job:localhost/replica:0/task:0/device:GPU:0 with 9575 MB memory:  -> device: 0, name: NVIDIA GeForce RTX 3060, pci bus id: 0000:01:00.0, compute capability: 8.6\n"
     ]
    },
    {
     "data": {
      "image/png": "[encoded data removed]",
      "text/plain": [
       "<IPython.core.display.Image object>"
      ]
     },
     "execution_count": 4,
     "metadata": {},
     "output_type": "execute_result"
    }
   ],
   "source": [
    "# create final model\n",
    "input = tf.keras.layers.Input(shape=IMG_SHAPE)\n",
    "x = tf.keras.layers.Conv2D(1, kernel_size=(2, 2), name=\"konvolusi\")(input)\n",
    "x = tf.keras.layers.Flatten()(x)\n",
    "outputs = tf.keras.layers.Dense(1)(x)\n",
    "model = tf.keras.Model(input, outputs)\n",
    "\n",
    "print(\"Trainable vars:\", len(model.trainable_variables))\n",
    "\n",
    "# model summary\n",
    "print(model.summary())\n",
    "\n",
    "# model structure\n",
    "tf.keras.utils.plot_model(model, show_shapes=True)"
   ]
  },
  {
   "cell_type": "code",
   "execution_count": 5,
   "metadata": {},
   "outputs": [],
   "source": [
    "# define optimizer and loss function\n",
    "optimizer = tf.keras.optimizers.SGD(learning_rate=LEARNING_RATE)\n",
    "loss = tf.keras.losses.BinaryCrossentropy(from_logits=True)\n",
    "\n",
    "# compile model\n",
    "model.compile(optimizer=optimizer, loss=loss, metrics=[\"accuracy\"])"
   ]
  },
  {
   "cell_type": "code",
   "execution_count": 6,
   "metadata": {},
   "outputs": [
    {
     "name": "stderr",
     "output_type": "stream",
     "text": [
      "2022-03-25 06:49:30.862774: I tensorflow/compiler/mlir/mlir_graph_optimization_pass.cc:185] None of the MLIR Optimization Passes are enabled (registered 2)\n"
     ]
    },
    {
     "name": "stdout",
     "output_type": "stream",
     "text": [
      "Epoch 1/10\n"
     ]
    },
    {
     "name": "stderr",
     "output_type": "stream",
     "text": [
      "2022-03-25 06:49:31.718310: I tensorflow/stream_executor/cuda/cuda_dnn.cc:369] Loaded cuDNN version 8201\n",
      "2022-03-25 06:49:32.688288: I tensorflow/core/platform/default/subprocess.cc:304] Start cannot spawn child process: No such file or directory\n",
      "2022-03-25 06:49:32.728761: I tensorflow/core/platform/default/subprocess.cc:304] Start cannot spawn child process: No such file or directory\n",
      "2022-03-25 06:49:32.728824: W tensorflow/stream_executor/gpu/asm_compiler.cc:77] Couldn't get ptxas version string: Internal: Couldn't invoke ptxas --version\n",
      "2022-03-25 06:49:32.771745: I tensorflow/core/platform/default/subprocess.cc:304] Start cannot spawn child process: No such file or directory\n",
      "2022-03-25 06:49:32.771852: W tensorflow/stream_executor/gpu/redzone_allocator.cc:314] Internal: Failed to launch ptxas\n",
      "Relying on driver to perform ptx compilation. \n",
      "Modify $PATH to customize ptxas location.\n",
      "This message will be only logged once.\n",
      "2022-03-25 06:49:33.344679: I tensorflow/stream_executor/cuda/cuda_blas.cc:1760] TensorFloat-32 will be used for the matrix multiplication. This will only be logged once.\n"
     ]
    },
    {
     "name": "stdout",
     "output_type": "stream",
     "text": [
      "396/396 [==============================] - 4s 4ms/step - loss: 0.6811 - accuracy: 0.4677\n",
      "Epoch 2/10\n",
      "396/396 [==============================] - 2s 4ms/step - loss: 0.6806 - accuracy: 0.4677\n",
      "Epoch 3/10\n",
      "396/396 [==============================] - 2s 4ms/step - loss: 0.6801 - accuracy: 0.4677\n",
      "Epoch 4/10\n",
      "396/396 [==============================] - 2s 4ms/step - loss: 0.6797 - accuracy: 0.4677\n",
      "Epoch 5/10\n",
      "396/396 [==============================] - 2s 5ms/step - loss: 0.6792 - accuracy: 0.4677\n",
      "Epoch 6/10\n",
      "396/396 [==============================] - 2s 5ms/step - loss: 0.6788 - accuracy: 0.4677\n",
      "Epoch 7/10\n",
      "396/396 [==============================] - 2s 4ms/step - loss: 0.6784 - accuracy: 0.4677\n",
      "Epoch 8/10\n",
      "396/396 [==============================] - 2s 4ms/step - loss: 0.6780 - accuracy: 0.4677\n",
      "Epoch 9/10\n",
      "396/396 [==============================] - 2s 4ms/step - loss: 0.6776 - accuracy: 0.4677\n",
      "Epoch 10/10\n",
      "396/396 [==============================] - 2s 4ms/step - loss: 0.6772 - accuracy: 0.4677\n"
     ]
    },
    {
     "data": {
      "text/plain": [
       "<keras.callbacks.History at 0x7f98750891c0>"
      ]
     },
     "execution_count": 6,
     "metadata": {},
     "output_type": "execute_result"
    }
   ],
   "source": [
    "model.fit(X_train, y_train, epochs=10)"
   ]
  },
  {
   "cell_type": "code",
   "execution_count": 18,
   "metadata": {},
   "outputs": [
    {
     "data": {
      "text/plain": [
       "[<tf.Variable 'konvolusi/kernel:0' shape=(2, 2, 1, 1) dtype=float32, numpy=\n",
       " array([[[[-0.3650981 ]],\n",
       " \n",
       "         [[-0.51215166]]],\n",
       " \n",
       " \n",
       "        [[[ 0.05020783]],\n",
       " \n",
       "         [[ 0.10830074]]]], dtype=float32)>,\n",
       " <tf.Variable 'konvolusi/bias:0' shape=(1,) dtype=float32, numpy=array([0.02604059], dtype=float32)>,\n",
       " <tf.Variable 'dense/kernel:0' shape=(4, 1) dtype=float32, numpy=\n",
       " array([[ 0.12507343],\n",
       "        [-0.6071307 ],\n",
       "        [ 0.80183226],\n",
       "        [ 0.61323184]], dtype=float32)>,\n",
       " <tf.Variable 'dense/bias:0' shape=(1,) dtype=float32, numpy=array([0.02815864], dtype=float32)>]"
      ]
     },
     "execution_count": 18,
     "metadata": {},
     "output_type": "execute_result"
    }
   ],
   "source": [
    "model.trainable_variables"
   ]
  },
  {
   "cell_type": "code",
   "execution_count": 16,
   "metadata": {},
   "outputs": [
    {
     "data": {
      "text/plain": [
       "array(0.02604059, dtype=float32)"
      ]
     },
     "execution_count": 16,
     "metadata": {},
     "output_type": "execute_result"
    }
   ],
   "source": [
    "model.weights[1].numpy().squeeze()"
   ]
  },
  {
   "cell_type": "code",
   "execution_count": 8,
   "metadata": {},
   "outputs": [],
   "source": [
    "pred_img = X_test[0]\n",
    "pred_img = np.expand_dims(pred_img, axis=0)\n",
    "\n",
    "# predict\n",
    "predicted = tf.nn.sigmoid(model.predict(pred_img))\n",
    "predicted = tf.argmax(predicted, axis=1)"
   ]
  },
  {
   "cell_type": "code",
   "execution_count": 9,
   "metadata": {},
   "outputs": [
    {
     "name": "stdout",
     "output_type": "stream",
     "text": [
      "prediction_logits (1, 1)\n",
      "prediction_logits tf.Tensor([[-0.0374317]], shape=(1, 1), dtype=float32)\n",
      "\n",
      "last_conv_layer_logits (1, 2, 2, 1)\n",
      "last_conv_layer_logits tf.Tensor(\n",
      "[[[[ 0.00774982]\n",
      "   [-0.0028427 ]]\n",
      "\n",
      "  [[-0.05277416]\n",
      "   [-0.04234859]]]], shape=(1, 2, 2, 1), dtype=float32)\n",
      "\n",
      "pred_index tf.Tensor(0, shape=(), dtype=int64)\n",
      "\n",
      "loss_value (1,)\n",
      "loss_value tf.Tensor([-0.0374317], shape=(1,), dtype=float32)\n",
      "\n",
      "grads (1, 2, 2, 1)\n",
      "grads tf.Tensor(\n",
      "[[[[ 0.12507343]\n",
      "   [-0.6071307 ]]\n",
      "\n",
      "  [[ 0.80183226]\n",
      "   [ 0.61323184]]]], shape=(1, 2, 2, 1), dtype=float32)\n",
      "\n",
      "pooled_grads (1,)\n",
      "pooled_grads tf.Tensor([0.2332517], shape=(1,), dtype=float32)\n",
      "\n",
      "heatmap matmul (2, 2, 1)\n",
      "heatmap matmul tf.Tensor(\n",
      "[[[ 0.00180766]\n",
      "  [-0.00066306]]\n",
      "\n",
      " [[-0.01230966]\n",
      "  [-0.00987788]]], shape=(2, 2, 1), dtype=float32)\n",
      "\n",
      "heatmap squeeze (2, 2)\n",
      "heatmap squeeze tf.Tensor(\n",
      "[[ 0.00180766 -0.00066306]\n",
      " [-0.01230966 -0.00987788]], shape=(2, 2), dtype=float32)\n",
      "\n",
      "heatmap max (2, 2)\n",
      "heatmap max tf.Tensor(\n",
      "[[1. 0.]\n",
      " [0. 0.]], shape=(2, 2), dtype=float32)\n",
      "\n"
     ]
    }
   ],
   "source": [
    "# First, we create a model that maps the input image to the activations\n",
    "# of the last conv layer as well as the output predictions\n",
    "convLayer = model.get_layer(\"konvolusi\").output\n",
    "grad_model = tf.keras.models.Model(\n",
    "    [model.inputs], [convLayer, model.output]\n",
    ")\n",
    "\n",
    "# Then, we compute the gradient of the top predicted class for our input image\n",
    "# with respect to the activations of the last conv layer\n",
    "with tf.GradientTape() as tape:\n",
    "    last_conv_layer_logits, prediction_logits = grad_model(pred_img)\n",
    "    pred_index = tf.argmax(prediction_logits[0])\n",
    "    loss_value = prediction_logits[:, pred_index]\n",
    "\n",
    "    print(\"prediction_logits\", prediction_logits.shape)\n",
    "    print(\"prediction_logits\", prediction_logits)\n",
    "    print(\"\")\n",
    "    print(\"last_conv_layer_logits\", last_conv_layer_logits.shape)\n",
    "    print(\"last_conv_layer_logits\", last_conv_layer_logits)\n",
    "    print(\"\")\n",
    "    print(\"pred_index\", pred_index)\n",
    "    print(\"\")\n",
    "    print(\"loss_value\", loss_value.shape)\n",
    "    print(\"loss_value\", loss_value)\n",
    "    print(\"\")\n",
    "\n",
    "    # This is the gradient of the output neuron (top predicted or chosen)\n",
    "    # with regard to the output feature map of the last conv layer\n",
    "    grads = tape.gradient(loss_value, last_conv_layer_logits)\n",
    "    print(\"grads\", grads.shape)\n",
    "    print(\"grads\", grads)\n",
    "    print(\"\")\n",
    "\n",
    "# This is a vector where each entry is the mean intensity of the gradient\n",
    "# over a specific feature map channel\n",
    "pooled_grads = tf.reduce_mean(grads, axis=(0, 1, 2))\n",
    "print(\"pooled_grads\", pooled_grads.shape)\n",
    "print(\"pooled_grads\", pooled_grads[:10])\n",
    "print(\"\")\n",
    "\n",
    "# We multiply each channel in the feature map array\n",
    "# by \"how important this channel is\" with regard to the top predicted class\n",
    "# then sum all the channels to obtain the heatmap class activation\n",
    "heatmap = tf.matmul(last_conv_layer_logits[0], pooled_grads[..., tf.newaxis])\n",
    "print(\"heatmap matmul\", heatmap.shape)\n",
    "print(\"heatmap matmul\", heatmap)\n",
    "print(\"\")\n",
    "\n",
    "heatmap = tf.squeeze(heatmap)\n",
    "print(\"heatmap squeeze\", heatmap.shape)\n",
    "print(\"heatmap squeeze\", heatmap)\n",
    "print(\"\")\n",
    "\n",
    "# For visualization purpose, we will also normalize the heatmap between 0 & 1\n",
    "heatmap = tf.maximum(heatmap, 0) / tf.reduce_max(heatmap)\n",
    "print(\"heatmap max\", heatmap.shape)\n",
    "print(\"heatmap max\", heatmap)\n",
    "print(\"\")"
   ]
  },
  {
   "cell_type": "code",
   "execution_count": 10,
   "metadata": {},
   "outputs": [
    {
     "ename": "NameError",
     "evalue": "name 'img_path' is not defined",
     "output_type": "error",
     "traceback": [
      "\u001b[0;31m---------------------------------------------------------------------------\u001b[0m",
      "\u001b[0;31mNameError\u001b[0m                                 Traceback (most recent call last)",
      "\u001b[1;32m/home/fahmi/skripsi/notebooks/gradcam-calc.ipynb Cell 10'\u001b[0m in \u001b[0;36m<cell line: 10>\u001b[0;34m()\u001b[0m\n\u001b[1;32m      <a href='vscode-notebook-cell://wsl%2Bubuntu-20.04/home/fahmi/skripsi/notebooks/gradcam-calc.ipynb#ch0000008vscode-remote?line=6'>7</a>\u001b[0m cm_heatmap \u001b[39m=\u001b[39m nipy_colors[heatmap]\n\u001b[1;32m      <a href='vscode-notebook-cell://wsl%2Bubuntu-20.04/home/fahmi/skripsi/notebooks/gradcam-calc.ipynb#ch0000008vscode-remote?line=8'>9</a>\u001b[0m \u001b[39m# load original image\u001b[39;00m\n\u001b[0;32m---> <a href='vscode-notebook-cell://wsl%2Bubuntu-20.04/home/fahmi/skripsi/notebooks/gradcam-calc.ipynb#ch0000008vscode-remote?line=9'>10</a>\u001b[0m original_img \u001b[39m=\u001b[39m tf\u001b[39m.\u001b[39mkeras\u001b[39m.\u001b[39mpreprocessing\u001b[39m.\u001b[39mimage\u001b[39m.\u001b[39mload_img(img_path)\n\u001b[1;32m     <a href='vscode-notebook-cell://wsl%2Bubuntu-20.04/home/fahmi/skripsi/notebooks/gradcam-calc.ipynb#ch0000008vscode-remote?line=10'>11</a>\u001b[0m original_img \u001b[39m=\u001b[39m tf\u001b[39m.\u001b[39mkeras\u001b[39m.\u001b[39mpreprocessing\u001b[39m.\u001b[39mimage\u001b[39m.\u001b[39mimg_to_array(original_img)\n\u001b[1;32m     <a href='vscode-notebook-cell://wsl%2Bubuntu-20.04/home/fahmi/skripsi/notebooks/gradcam-calc.ipynb#ch0000008vscode-remote?line=12'>13</a>\u001b[0m \u001b[39m# Create an image with RGB colorized heatmap\u001b[39;00m\n",
      "\u001b[0;31mNameError\u001b[0m: name 'img_path' is not defined"
     ]
    }
   ],
   "source": [
    "# Rescale heatmap to a range 0-255\n",
    "heatmap = np.uint8(255 * heatmap)\n",
    "\n",
    "# Use RGB values of the colormap\n",
    "nipy_cm = plt.cm.get_cmap(\"nipy_spectral\")\n",
    "nipy_colors = nipy_cm(np.arange(256))[:, :3]\n",
    "cm_heatmap = nipy_colors[heatmap]\n",
    "\n",
    "# load original image\n",
    "original_img = tf.keras.preprocessing.image.load_img(img_path)\n",
    "original_img = tf.keras.preprocessing.image.img_to_array(original_img)\n",
    "\n",
    "# Create an image with RGB colorized heatmap\n",
    "cm_heatmap = tf.keras.preprocessing.image.array_to_img(cm_heatmap)\n",
    "cm_heatmap = cm_heatmap.resize((original_img.shape[1], original_img.shape[0]))\n",
    "cm_heatmap = tf.keras.preprocessing.image.img_to_array(cm_heatmap)\n",
    "\n",
    "# Superimpose the heatmap on original image\n",
    "superimposed_img = cm_heatmap * alpha + original_img\n",
    "superimposed_img = tf.keras.preprocessing.image.array_to_img(superimposed_img)\n",
    "\n",
    "# Save the superimposed image\n",
    "plt.imshow(superimposed_img)"
   ]
  },
  {
   "cell_type": "markdown",
   "metadata": {},
   "source": [
    "## MATH PLAYGROUND"
   ]
  },
  {
   "cell_type": "code",
   "execution_count": 80,
   "metadata": {},
   "outputs": [
    {
     "name": "stdout",
     "output_type": "stream",
     "text": [
      "[<tf.Tensor: shape=(2, 1, 1, 2), dtype=float32, numpy=\n",
      "array([[[[0.22600816, 0.22567947]]],\n",
      "\n",
      "\n",
      "       [[[0.23011062, 0.23109803]]]], dtype=float32)>, <tf.Tensor: shape=(), dtype=float32, numpy=2.7505274>, <tf.Tensor: shape=(1, 4), dtype=float32, numpy=\n",
      "array([[-0.12762746, -0.13092825, -0.1244053 , -0.12531886]],\n",
      "      dtype=float32)>, <tf.Tensor: shape=(), dtype=float32, numpy=12.106045>]\n"
     ]
    }
   ],
   "source": [
    "img1 = np.array([[\n",
    "  [[0.0217], [0.2326], [0.1255]],\n",
    "  [[0.1326], [0.2843], [0.2026]],\n",
    "  [[0.1242], [0.2228], [0.0437]]\n",
    "]], dtype=np.float32)\n",
    "A = tf.Variable(img1, name='input')\n",
    "y = tf.Variable(0.0, name='output')\n",
    "\n",
    "kernel1 = np.array([\n",
    "  [ [[-0.3650, -0.5121]] ],\n",
    "  [ [[-0.0502, 0.1083]] ]\n",
    "], dtype=np.float32)\n",
    "weights_kernel1 = tf.Variable(kernel1, name='weights_kernel1')\n",
    "bias1 = tf.Variable(0.0260, name='bias1')\n",
    "\n",
    "weights2 = tf.Variable(np.array([[0.1251, -0.6071, 0.8018, 0.6132]], dtype=np.float32), name='weights2')\n",
    "bias2 = tf.Variable(0.0282, name='bias2')\n",
    "\n",
    "\n",
    "with tf.GradientTape(persistent=True) as tape:\n",
    "  y1 = bias1 + tf.nn.conv2d(A, weights_kernel1, strides=[1, 1, 1, 1], padding='VALID')\n",
    "  y2 = tf.nn.sigmoid(bias2 + tf.transpose(y1) @ weights2)\n",
    "\n",
    "  loss = tf.reduce_sum(tf.square(y2 - y))\n",
    "\n",
    "gradients = tape.gradient(loss, [weights_kernel1, bias1, weights2, bias2])\n",
    "print(gradients)"
   ]
  },
  {
   "cell_type": "code",
   "execution_count": 75,
   "metadata": {},
   "outputs": [],
   "source": [
    "import numpy as np\n",
    "from scipy.signal import convolve2d, correlate2d\n",
    "\n",
    "np.random.seed(42)"
   ]
  },
  {
   "cell_type": "code",
   "execution_count": 101,
   "metadata": {},
   "outputs": [],
   "source": [
    "def sigmoid(x):\n",
    "  return 1.0 / (1.0 + np.exp(-x))\n",
    "\n",
    "def binary_cross_entropy(y_true, y_pred):\n",
    "    return np.mean(-y_true * np.log(y_pred) - (1 - y_true) * np.log(1 - y_pred))\n",
    "\n",
    "def binary_cross_entropy_prime(y_true, y_pred):\n",
    "    return ((1 - y_true) / (1 - y_pred) - y_true / y_pred) / np.size(y_true)"
   ]
  },
  {
   "cell_type": "code",
   "execution_count": 106,
   "metadata": {},
   "outputs": [],
   "source": [
    "learning_rate = 0.001\n",
    "y = 0.0\n",
    "A = np.array([\n",
    "  [0.02178649, 0.23267974, 0.12559913],\n",
    "  [0.13267974, 0.28431373, 0.20261438],\n",
    "  [0.12429194, 0.22287582, 0.04379085]\n",
    "])"
   ]
  },
  {
   "cell_type": "code",
   "execution_count": 77,
   "metadata": {},
   "outputs": [
    {
     "name": "stdout",
     "output_type": "stream",
     "text": [
      "Bias\n",
      " [[0.37454012 0.95071431]\n",
      " [0.73199394 0.59865848]]\n",
      "Kernel\n",
      " [[0.15601864 0.15599452]\n",
      " [0.05808361 0.86617615]]\n",
      "Convolution\n",
      " [[0.49669946 0.53596953]\n",
      " [0.54440246 0.4884748 ]]\n",
      "Convolution with Bias\n",
      " [[0.87123958 1.48668384]\n",
      " [1.27639641 1.08713329]]\n"
     ]
    }
   ],
   "source": [
    "# CNN - Layer 1, single filter, single bias, forward propagation\n",
    "cnn_b = np.random.uniform(0, 1, size=(2, 2))\n",
    "cnn_k = np.random.uniform(0, 1, size=(2, 2))\n",
    "\n",
    "conv1 = correlate2d(A, cnn_b, mode='valid')\n",
    "conv1_b = cnn_b + conv1\n",
    "\n",
    "print(\"Bias\\n\", cnn_b)\n",
    "print(\"Kernel\\n\", cnn_k)\n",
    "print(\"Convolution\\n\", conv1)\n",
    "print(\"Convolution with Bias\\n\", conv1_b)"
   ]
  },
  {
   "cell_type": "code",
   "execution_count": 83,
   "metadata": {},
   "outputs": [
    {
     "name": "stdout",
     "output_type": "stream",
     "text": [
      "Bias\n",
      " [[0.9093204 ]\n",
      " [0.25877998]\n",
      " [0.66252228]\n",
      " [0.31171108]]\n",
      "Weight\n",
      " [[0.52006802 0.54671028 0.18485446 0.96958463]\n",
      " [0.77513282 0.93949894 0.89482735 0.59789998]\n",
      " [0.92187424 0.0884925  0.19598286 0.04522729]\n",
      " [0.32533033 0.38867729 0.27134903 0.82873751]]\n",
      "Forward pass\n",
      " [[2.55590447]\n",
      " [3.86421567]\n",
      " [1.23405361]\n",
      " [2.10857797]]\n",
      "Forward pass with Bias\n",
      " [[3.46522487]\n",
      " [4.12299566]\n",
      " [1.89657589]\n",
      " [2.42028904]]\n"
     ]
    }
   ],
   "source": [
    "# FCN - Layer 2, single weight, single bias, forward propagation\n",
    "fcn_b = np.random.uniform(0, 1, (4, 1))\n",
    "fcn_w = np.random.uniform(0, 1, (4, 4))\n",
    "\n",
    "fcn1 = np.matmul(fcn_w, conv1_b.reshape(-1, 1))\n",
    "fcn1_b = fcn_b + fcn1\n",
    "\n",
    "print(\"Bias\\n\", fcn_b)\n",
    "print(\"Weight\\n\", fcn_w)\n",
    "print(\"Forward pass\\n\", fcn1)\n",
    "print(\"Forward pass with Bias\\n\", fcn1_b)"
   ]
  },
  {
   "cell_type": "code",
   "execution_count": 99,
   "metadata": {},
   "outputs": [
    {
     "name": "stdout",
     "output_type": "stream",
     "text": [
      "Bias\n",
      " [[0.9093204 ]\n",
      " [0.25877998]\n",
      " [0.66252228]\n",
      " [0.31171108]]\n",
      "Weight\n",
      " [[0.52006802 0.54671028 0.18485446 0.96958463]\n",
      " [0.77513282 0.93949894 0.89482735 0.59789998]\n",
      " [0.92187424 0.0884925  0.19598286 0.04522729]\n",
      " [0.32533033 0.38867729 0.27134903 0.82873751]]\n",
      "Forward pass\n",
      " [[5.34517995]]\n",
      "Forward pass with Bias\n",
      " [[5.4087383]]\n",
      "Output sigmoid [[0.99554267]]\n"
     ]
    }
   ],
   "source": [
    "# FCN - Layer 3, single weight, single bias, forward propagation\n",
    "fcn2_b = np.random.uniform(0, 1, (1, 1))\n",
    "fcn2_w = np.random.uniform(0, 1, (4, 1))\n",
    "\n",
    "fcn2 = np.matmul(fcn2_w.T, fcn1_b.reshape(-1, 1))\n",
    "fcn2_b = fcn2_b + fcn2\n",
    "\n",
    "fcn2_out = sigmoid(fcn2_b)\n",
    "\n",
    "print(\"Bias\\n\", fcn_b)\n",
    "print(\"Weight\\n\", fcn_w)\n",
    "print(\"Forward pass\\n\", fcn2)\n",
    "print(\"Forward pass with Bias\\n\", fcn2_b)\n",
    "print(\"Output sigmoid\", fcn2_out)"
   ]
  },
  {
   "cell_type": "code",
   "execution_count": 105,
   "metadata": {},
   "outputs": [
    {
     "name": "stdout",
     "output_type": "stream",
     "text": [
      "[[224.34961016]]\n"
     ]
    }
   ],
   "source": [
    "# Empirical loss\n",
    "binary_cross_entropy(y, fcn2_out)"
   ]
  },
  {
   "cell_type": "code",
   "execution_count": 108,
   "metadata": {},
   "outputs": [
    {
     "ename": "ValueError",
     "evalue": "non-broadcastable output operand with shape (4,1) doesn't match the broadcast shape (4,4)",
     "output_type": "error",
     "traceback": [
      "\u001b[0;31m---------------------------------------------------------------------------\u001b[0m",
      "\u001b[0;31mValueError\u001b[0m                                Traceback (most recent call last)",
      "\u001b[1;32m/home/fahmi/skripsi/notebooks/gradcam-calc.ipynb Cell 22'\u001b[0m in \u001b[0;36m<cell line: 6>\u001b[0;34m()\u001b[0m\n\u001b[1;32m      <a href='vscode-notebook-cell://wsl%2Bubuntu-20.04/home/fahmi/skripsi/notebooks/gradcam-calc.ipynb#ch0000041vscode-remote?line=2'>3</a>\u001b[0m weights_gradient \u001b[39m=\u001b[39m np\u001b[39m.\u001b[39mdot(output_gradient, fcn1_b\u001b[39m.\u001b[39mreshape(\u001b[39m-\u001b[39m\u001b[39m1\u001b[39m, \u001b[39m1\u001b[39m)\u001b[39m.\u001b[39mT)\n\u001b[1;32m      <a href='vscode-notebook-cell://wsl%2Bubuntu-20.04/home/fahmi/skripsi/notebooks/gradcam-calc.ipynb#ch0000041vscode-remote?line=3'>4</a>\u001b[0m fcn2_b_grads \u001b[39m=\u001b[39m np\u001b[39m.\u001b[39mdot(fcn2_w, output_gradient)\n\u001b[0;32m----> <a href='vscode-notebook-cell://wsl%2Bubuntu-20.04/home/fahmi/skripsi/notebooks/gradcam-calc.ipynb#ch0000041vscode-remote?line=5'>6</a>\u001b[0m fcn2_w \u001b[39m-\u001b[39m\u001b[39m=\u001b[39m learning_rate \u001b[39m*\u001b[39m weights_gradient\n\u001b[1;32m      <a href='vscode-notebook-cell://wsl%2Bubuntu-20.04/home/fahmi/skripsi/notebooks/gradcam-calc.ipynb#ch0000041vscode-remote?line=6'>7</a>\u001b[0m fcn2_b \u001b[39m-\u001b[39m\u001b[39m=\u001b[39m learning_rate \u001b[39m*\u001b[39m output_gradient\n",
      "\u001b[0;31mValueError\u001b[0m: non-broadcastable output operand with shape (4,1) doesn't match the broadcast shape (4,4)"
     ]
    }
   ],
   "source": [
    "# FCN - Layer 3, single weight, single bias, back propagation\n",
    "output_gradient = binary_cross_entropy_prime(y, fcn2_out)\n",
    "weights_gradient = np.dot(output_gradient, fcn1_b.reshape(-1, 1).T)\n",
    "fcn2_b_grads = np.dot(fcn2_w, output_gradient)\n",
    "\n",
    "fcn2_w -= learning_rate * weights_gradient\n",
    "fcn2_b -= learning_rate * output_gradient"
   ]
  },
  {
   "cell_type": "markdown",
   "metadata": {},
   "source": [
    "### MANUAL"
   ]
  },
  {
   "cell_type": "code",
   "execution_count": 112,
   "metadata": {},
   "outputs": [
    {
     "data": {
      "text/plain": [
       "array([[0.1657329 , 0.18515578],\n",
       "       [0.22545708, 0.22346471]])"
      ]
     },
     "execution_count": 112,
     "metadata": {},
     "output_type": "execute_result"
    }
   ],
   "source": [
    "a = np.array([\n",
    "  [0.361, 0.518],\n",
    "  [0.050, 0.108]\n",
    "])\n",
    "b = np.array([\n",
    "  [0.02178649, 0.23267974, 0.12559913],\n",
    "  [0.13267974, 0.28431373, 0.20261438],\n",
    "  [0.12429194, 0.22287582, 0.04379085]\n",
    "])\n",
    "\n",
    "ff1 = correlate2d(b, a, mode='valid')\n",
    "ff1"
   ]
  },
  {
   "cell_type": "code",
   "execution_count": 113,
   "metadata": {},
   "outputs": [
    {
     "data": {
      "text/plain": [
       "array([[0.5267329 , 0.70315578],\n",
       "       [0.27545708, 0.33146471]])"
      ]
     },
     "execution_count": 113,
     "metadata": {},
     "output_type": "execute_result"
    }
   ],
   "source": [
    "conv1_bias = np.array([\n",
    "  [0.361, 0.518],\n",
    "  [0.050, 0.108]\n",
    "])\n",
    "\n",
    "ff1 + conv1_bias"
   ]
  },
  {
   "cell_type": "code",
   "execution_count": null,
   "metadata": {},
   "outputs": [],
   "source": []
  }
 ],
 "metadata": {
  "interpreter": {
   "hash": "20dbac6cdca5487422c9ca286155855266126e02ea69f83078aeb33641b83286"
  },
  "kernelspec": {
   "display_name": "Python 3.8.12 ('belajar-ml')",
   "language": "python",
   "name": "python3"
  },
  "language_info": {
   "codemirror_mode": {
    "name": "ipython",
    "version": 3
   },
   "file_extension": ".py",
   "mimetype": "text/x-python",
   "name": "python",
   "nbconvert_exporter": "python",
   "pygments_lexer": "ipython3",
   "version": "3.9.10"
  },
  "orig_nbformat": 4
 },
 "nbformat": 4,
 "nbformat_minor": 2
}
