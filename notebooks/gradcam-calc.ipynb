{
 "cells": [
  {
   "cell_type": "code",
   "execution_count": 1,
   "metadata": {},
   "outputs": [],
   "source": [
    "import numpy as np\n",
    "from scipy.signal import convolve2d, correlate2d\n",
    "\n",
    "np.random.seed(42)"
   ]
  },
  {
   "cell_type": "code",
   "execution_count": 123,
   "metadata": {},
   "outputs": [],
   "source": [
    "def sigmoid(x):\n",
    "  return 1.0 / (1.0 + np.exp(-x))\n",
    "\n",
    "def binary_cross_entropy(y_true, y_pred):\n",
    "    return np.mean(-y_true * np.log(y_pred) - (1 - y_true) * np.log(1 - y_pred))\n",
    "\n",
    "def binary_cross_entropy_prime(y_true, y_pred):\n",
    "    return ((1 - y_true) / (1 - y_pred) - y_true / y_pred) / np.size(y_true)"
   ]
  },
  {
   "cell_type": "code",
   "execution_count": 116,
   "metadata": {},
   "outputs": [],
   "source": [
    "# Deklarasi input\n",
    "learning_rate = 0.001\n",
    "y = np.array([0])\n",
    "A = np.array([\n",
    "  [0.217, 0.232, 0.125],\n",
    "  [0.132, 0.284, 0.202],\n",
    "  [0.124, 0.222, 0.043]\n",
    "])"
   ]
  },
  {
   "cell_type": "code",
   "execution_count": 148,
   "metadata": {},
   "outputs": [
    {
     "name": "stdout",
     "output_type": "stream",
     "text": [
      "Bias\n",
      " [[0.361 0.518]\n",
      " [0.05  0.108]]\n",
      "Kernel\n",
      " [[0.125 0.607]\n",
      " [0.801 0.613]]\n",
      "Convolution\n",
      " [[0.447773 0.456185]\n",
      " [0.424298 0.362295]]\n",
      "Convolution with Bias\n",
      " [[0.808773 0.974185]\n",
      " [0.474298 0.470295]]\n"
     ]
    }
   ],
   "source": [
    "# CNN - Layer 1, single filter, single bias, forward propagation\n",
    "cnn1_b = np.array([\n",
    "  [0.361, 0.518],\n",
    "  [0.050, 0.108]\n",
    "])\n",
    "cnn1_k = np.array([\n",
    "  [0.125, 0.607],\n",
    "  [0.801, 0.613]\n",
    "])\n",
    "\n",
    "cnn1_1 = correlate2d(A, cnn1_k, mode='valid')\n",
    "cnn1_1_b = cnn1_b + cnn1_1\n",
    "\n",
    "print(\"Bias\\n\", cnn1_b)\n",
    "print(\"Kernel\\n\", cnn1_k)\n",
    "print(\"Convolution\\n\", cnn1_1)\n",
    "print(\"Convolution with Bias\\n\", cnn1_1_b)\n"
   ]
  },
  {
   "cell_type": "code",
   "execution_count": 201,
   "metadata": {},
   "outputs": [
    {
     "name": "stdout",
     "output_type": "stream",
     "text": [
      "Bias\n",
      " [0.365]\n",
      "Weight\n",
      " [0.909 0.258 0.311 0.662]\n",
      "Forward pass\n",
      " [1.44535635]\n",
      "Forward pass with Bias\n",
      " [1.81035635]\n",
      "Forward pass with bias and activation\n",
      " [0.85940494]\n"
     ]
    }
   ],
   "source": [
    "# FCN - Layer 2, single weight, single bias, 1 unit, forward propagation\n",
    "fcn_b = np.array([0.365])\n",
    "fcn_w = np.array([0.909, 0.258, 0.311, 0.662])\n",
    "\n",
    "fcn1 = np.matmul(fcn_w, cnn1_1_b.reshape(-1, 1))\n",
    "fcn1_b = fcn_b + fcn1\n",
    "\n",
    "fcn1_b_actived = sigmoid(fcn1_b.ravel())\n",
    "\n",
    "print(\"Bias\\n\", fcn_b)\n",
    "print(\"Weight\\n\", fcn_w)\n",
    "print(\"Forward pass\\n\", fcn1)\n",
    "print(\"Forward pass with Bias\\n\", fcn1_b)\n",
    "print(\"Forward pass with bias and activation\\n\", fcn1_b_actived)"
   ]
  },
  {
   "cell_type": "code",
   "execution_count": 188,
   "metadata": {},
   "outputs": [
    {
     "name": "stdout",
     "output_type": "stream",
     "text": [
      "1.961871417399307\n"
     ]
    }
   ],
   "source": [
    "# Empirical loss\n",
    "E = binary_cross_entropy(y, fcn1_b_actived)\n",
    "print(E)"
   ]
  },
  {
   "cell_type": "code",
   "execution_count": 237,
   "metadata": {},
   "outputs": [
    {
     "name": "stdout",
     "output_type": "stream",
     "text": [
      "Previous gradient\n",
      " [7.11262531]\n",
      "Gradient of weight\n",
      " [0.01287639]\n",
      "Gradient of bias\n",
      " [0.00711263]\n",
      "Gradient to backpropagate\n",
      " [6.46537641 1.83505733 2.21202647 4.70855795]\n"
     ]
    }
   ],
   "source": [
    "# FCN - Layer 2, single weight, single bias, 1 unit, back propagation\n",
    "fcn1_gradient = binary_cross_entropy_prime(y, fcn1_b_actived)\n",
    "\n",
    "fcn1_weights_gradient = np.dot(fcn1_gradient, fcn1_b.reshape(-1, 1))\n",
    "fcn1_input_gradient = np.dot(fcn_w.T.reshape(-1, 1), fcn1_gradient)\n",
    "\n",
    "dfcn_w = learning_rate * fcn1_weights_gradient\n",
    "dfcn_b = learning_rate * fcn1_gradient\n",
    "\n",
    "print(\"Previous gradient\\n\", fcn1_gradient)\n",
    "print(\"Gradient of weight\\n\", dfcn_w)\n",
    "print(\"Gradient of bias\\n\", dfcn_b)\n",
    "print(\"Gradient to backpropagate\\n\", fcn1_input_gradient)"
   ]
  },
  {
   "cell_type": "code",
   "execution_count": 234,
   "metadata": {},
   "outputs": [
    {
     "name": "stdout",
     "output_type": "stream",
     "text": [
      "Gradient of kernel\n",
      " [[0.00345794 0.00330869]\n",
      " [0.00269418 0.00290039]]\n",
      "Gradient of bias\n",
      " [[0.00646538 0.00183506]\n",
      " [0.00221203 0.00470856]]\n",
      "Gradient to backpropagate\n",
      " [[0.80817205 4.15386564 1.1138798 ]\n",
      " [5.45526981 7.36442647 3.98298482]\n",
      " [1.7718332  5.12752715 2.88634603]]\n"
     ]
    }
   ],
   "source": [
    "# CNN - Layer 1, single filter, single bias, back propagation\n",
    "cnn1_gradients = fcn1_input_gradient.reshape((2, 2))\n",
    "\n",
    "kernels_gradient = correlate2d(A, cnn1_gradients, \"valid\")\n",
    "cnn1_input_gradient = convolve2d(cnn1_gradients, cnn1_k, \"full\")\n",
    "\n",
    "dkernels = learning_rate * kernels_gradient\n",
    "dbiases = learning_rate * cnn1_gradients\n",
    "\n",
    "print(\"Gradient of kernel\\n\", dkernels)\n",
    "print(\"Gradient of bias\\n\", dbiases)  \n",
    "print(\"Gradient to backpropagate\\n\", cnn1_input_gradient)"
   ]
  },
  {
   "cell_type": "code",
   "execution_count": 247,
   "metadata": {},
   "outputs": [
    {
     "data": {
      "text/plain": [
       "array([[3.45793793, 3.30869372],\n",
       "       [2.69417712, 2.90038635]])"
      ]
     },
     "execution_count": 247,
     "metadata": {},
     "output_type": "execute_result"
    }
   ],
   "source": [
    "kernels_gradient"
   ]
  },
  {
   "cell_type": "markdown",
   "metadata": {},
   "source": [
    "## HELLWOE"
   ]
  },
  {
   "cell_type": "code",
   "execution_count": 260,
   "metadata": {},
   "outputs": [
    {
     "data": {
      "text/plain": [
       "0.17566666666666664"
      ]
     },
     "execution_count": 260,
     "metadata": {},
     "output_type": "execute_result"
    }
   ],
   "source": [
    "a = np.array([\n",
    "  [0.217, 0.232, 0.125],\n",
    "  [0.132, 0.284, 0.202],\n",
    "  [0.124, 0.222, 0.043]\n",
    "])\n",
    "b = np.array([\n",
    "  [6.019, 1.708],\n",
    "  [2.059, 4.383]\n",
    "])\n",
    "\n",
    "correlate2d(a, b, mode=\"valid\")"
   ]
  },
  {
   "cell_type": "code",
   "execution_count": 250,
   "metadata": {},
   "outputs": [
    {
     "data": {
      "text/plain": [
       "array([[0.752375, 3.867033, 1.036756],\n",
       "       [5.078594, 6.855443, 3.707485],\n",
       "       [1.649259, 4.77295 , 2.686779]])"
      ]
     },
     "execution_count": 250,
     "metadata": {},
     "output_type": "execute_result"
    }
   ],
   "source": [
    "a = np.array([\n",
    "  [6.019, 1.708],\n",
    "  [2.059, 4.383]\n",
    "])\n",
    "b = np.array([\n",
    "  [0.125, 0.607],\n",
    "  [0.801, 0.613]\n",
    "])\n",
    "convolve2d(a, b, \"full\")"
   ]
  },
  {
   "cell_type": "code",
   "execution_count": 261,
   "metadata": {},
   "outputs": [
    {
     "data": {
      "text/plain": [
       "3.378222222222222"
      ]
     },
     "execution_count": 261,
     "metadata": {},
     "output_type": "execute_result"
    }
   ],
   "source": [
    "a = np.array([\n",
    "  [0.752, 3.867, 1.037],\n",
    "  [5.079, 6.855, 3.707],\n",
    "  [1.649, 4.772, 2.686]\n",
    "])\n",
    "\n",
    "np.mean(a)"
   ]
  },
  {
   "cell_type": "code",
   "execution_count": 265,
   "metadata": {},
   "outputs": [
    {
     "data": {
      "text/plain": [
       "array([[2.72960984, 3.29039602],\n",
       "       [1.60128102, 1.5877681 ]])"
      ]
     },
     "execution_count": 265,
     "metadata": {},
     "output_type": "execute_result"
    }
   ],
   "source": [
    "a = 3.37823\n",
    "b = np.array([\n",
    "  [0.808, 0.974],\n",
    "  [0.474, 0.470]\n",
    "])\n",
    "\n",
    "np.dot(a, b)"
   ]
  },
  {
   "cell_type": "code",
   "execution_count": null,
   "metadata": {},
   "outputs": [],
   "source": []
  }
 ],
 "metadata": {
  "interpreter": {
   "hash": "20dbac6cdca5487422c9ca286155855266126e02ea69f83078aeb33641b83286"
  },
  "kernelspec": {
   "display_name": "Python 3.8.12 ('belajar-ml')",
   "language": "python",
   "name": "python3"
  },
  "language_info": {
   "codemirror_mode": {
    "name": "ipython",
    "version": 3
   },
   "file_extension": ".py",
   "mimetype": "text/x-python",
   "name": "python",
   "nbconvert_exporter": "python",
   "pygments_lexer": "ipython3",
   "version": "3.9.10"
  },
  "orig_nbformat": 4
 },
 "nbformat": 4,
 "nbformat_minor": 2
}
